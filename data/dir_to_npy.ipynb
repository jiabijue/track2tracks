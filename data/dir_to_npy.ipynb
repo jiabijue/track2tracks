{
 "cells": [
  {
   "cell_type": "markdown",
   "metadata": {},
   "source": [
    "# Organize all .npz files into one directory"
   ]
  },
  {
   "cell_type": "code",
   "execution_count": 1,
   "metadata": {},
   "outputs": [],
   "source": [
    "import os\n",
    "import numpy as np\n",
    "# import matplotlib.pyplot as plt\n",
    "from pypianoroll import Multitrack, Track"
   ]
  },
  {
   "cell_type": "code",
   "execution_count": 2,
   "metadata": {},
   "outputs": [],
   "source": [
    "original_dir = './lpd_5_cleansed'\n",
    "target_dir = './lpd_5_cleansed-piano_non_empty400bool'\n",
    "\n",
    "if not os.path.exists(target_dir):\n",
    "    os.makedirs(target_dir)"
   ]
  },
  {
   "cell_type": "code",
   "execution_count": 3,
   "metadata": {},
   "outputs": [],
   "source": [
    "program_nums = [118, 0, 25, 33, 49]\n",
    "is_drums = [True, False, False, False, False]\n",
    "track_names = ['drums', 'piano', 'guitar', 'bass', 'strings']\n",
    "tempo = 80.0\n",
    "beat_resolution = 24"
   ]
  },
  {
   "cell_type": "code",
   "execution_count": 4,
   "metadata": {},
   "outputs": [],
   "source": [
    "num_songs = 21425\n",
    "cut_len = 400  # min length in this dataset is 600\n",
    "cut_pitch_range = 84\n",
    "num_tracks = 5"
   ]
  },
  {
   "cell_type": "markdown",
   "metadata": {},
   "source": [
    "## save each piano roll segment as .npy file"
   ]
  },
  {
   "cell_type": "markdown",
   "metadata": {},
   "source": [
    "I clear the underneath cell because I print all file names and the output is too long."
   ]
  },
  {
   "cell_type": "code",
   "execution_count": null,
   "metadata": {
    "scrolled": true
   },
   "outputs": [],
   "source": [
    "count = 0\n",
    "for root, _, files in os.walk(original_dir):\n",
    "    for name in files:\n",
    "        if name.endswith('npz'):\n",
    "            npz_file = os.path.join(root, name)\n",
    "            print(npz_file)\n",
    "\n",
    "            mt = Multitrack(npz_file, beat_resolution=24)\n",
    "\n",
    "            # To verify that the track order is: 'drums', 'piano', 'guitar', 'bass', 'strings'\n",
    "            # track_list = mt.tracks\n",
    "            # for track in track_list:\n",
    "            #     print(track.name)\n",
    "\n",
    "            mt.binarize()\n",
    "            pr = mt.get_stacked_pianorolls()  # shape=(num_time_step, 128, num_track)\n",
    "\n",
    "            # Starting from time step 0, cut 400-time-step-length segment successively\n",
    "            # Pad zero to the last segment whose length is less than 400\n",
    "            K = pr.shape[0]//cut_len\n",
    "            for k in range(K + 1):\n",
    "                if k == K:\n",
    "                    segment_pr = np.zeros([cut_len, 128, num_tracks])\n",
    "                    segment_pr[:(pr.shape[0] % cut_len), :, :] = pr[k*cut_len:, :, :]\n",
    "                else:\n",
    "                    segment_pr = pr[k * cut_len:(k + 1) * cut_len, :, :]\n",
    "\n",
    "                # Remove the segment whose piano track is empty\n",
    "                if np.sum(segment_pr[..., 1]) != 0:   # track 1 is piano\n",
    "                    count += 1\n",
    "\n",
    "#                     # Save the piano-roll figure of each segment\n",
    "#                     tracks = list()\n",
    "#                     for j in range(segment_pr.shape[2]):\n",
    "#                         track = Track(segment_pr[..., j], program_nums[j], is_drums[j], track_names[j])\n",
    "#                         tracks.append(track)\n",
    "#                     cut_mt = Multitrack(tracks=tracks, tempo=tempo, beat_resolution=beat_resolution)\n",
    "#                     cut_mt.plot(filepath=os.path.join(pianoroll_dir, str(count)) + '.png')\n",
    "#                     plt.close('all')\n",
    "\n",
    "                    # Save the segment as .npy file\n",
    "                    segment_data = segment_pr[:, 20:104, :]\n",
    "                    np.save(os.path.join(target_dir, str(count)+'.npy'), segment_data.astype(np.bool_))"
   ]
  },
  {
   "cell_type": "markdown",
   "metadata": {},
   "source": [
    "## Split into three sub-dirs for train, develop and test"
   ]
  },
  {
   "cell_type": "code",
   "execution_count": 16,
   "metadata": {},
   "outputs": [],
   "source": [
    "import shutil\n",
    "from random import shuffle"
   ]
  },
  {
   "cell_type": "code",
   "execution_count": 17,
   "metadata": {},
   "outputs": [],
   "source": [
    "sample_names = [f for f in os.listdir(target_dir) if f.endswith('.npy')]\n",
    "shuffle(sample_names)"
   ]
  },
  {
   "cell_type": "code",
   "execution_count": 19,
   "metadata": {},
   "outputs": [
    {
     "name": "stdout",
     "output_type": "stream",
     "text": [
      "163658\n",
      "20457\n",
      "20458\n"
     ]
    }
   ],
   "source": [
    "subset_dirs = ['train', 'develop', 'test']\n",
    "\n",
    "for sub in subset_dirs:\n",
    "    sub_dirname = os.path.join(target_dir, sub)\n",
    "    if not os.path.exists(sub_dirname):\n",
    "        os.makedirs(sub_dirname)\n",
    "        \n",
    "# Split all files for training, development, test respectively 8:1:1\n",
    "split_idx1 = int(len(sample_names) * 0.8)\n",
    "split_idx2 = int(len(sample_names) * 0.9)\n",
    "\n",
    "train_samples = sample_names[:split_idx1]\n",
    "print(len(train_samples))\n",
    "for f in train_samples:\n",
    "    shutil.move(os.path.join(target_dir, f), os.path.join(target_dir, 'train', f))\n",
    "\n",
    "dev_samples = sample_names[split_idx1:split_idx2]\n",
    "print(len(dev_samples))\n",
    "for f in dev_samples:\n",
    "    shutil.move(os.path.join(target_dir, f), os.path.join(target_dir, 'develop', f))\n",
    "\n",
    "test_samples = sample_names[split_idx2:]\n",
    "print(len(test_samples))\n",
    "for f in test_samples:\n",
    "    shutil.move(os.path.join(target_dir, f), os.path.join(target_dir, 'test', f))"
   ]
  }
 ],
 "metadata": {
  "kernelspec": {
   "display_name": "Python [default]",
   "language": "python",
   "name": "python3"
  },
  "language_info": {
   "codemirror_mode": {
    "name": "ipython",
    "version": 3
   },
   "file_extension": ".py",
   "mimetype": "text/x-python",
   "name": "python",
   "nbconvert_exporter": "python",
   "pygments_lexer": "ipython3",
   "version": "3.6.4"
  }
 },
 "nbformat": 4,
 "nbformat_minor": 2
}
